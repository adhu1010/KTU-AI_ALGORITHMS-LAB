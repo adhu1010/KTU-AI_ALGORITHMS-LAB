{
 "cells": [
  {
   "cell_type": "markdown",
   "id": "49da01e9-3d6d-4534-bf5a-8c456896e000",
   "metadata": {},
   "source": [
    "vaccum cleaner world"
   ]
  },
  {
   "cell_type": "code",
   "execution_count": null,
   "id": "da755c99-bb79-4051-bb36-ce3f9ff76b97",
   "metadata": {},
   "outputs": [],
   "source": [
    "class VacuumCleanerAgent:\n",
    "    def __init__(self, state):\n",
    "        self.state = state  \n",
    "        self.action={}\n",
    "\n",
    "    def suck(self):\n",
    "        if self.state[0] == \"A\":\n",
    "            if self.state[1] == 1:\n",
    "                self.state = (\"A\", 0, self.state[2])\n",
    "                print(f\"\\nSucked dirt in Room A. New state: {self.state}\")\n",
    "                \n",
    "        elif self.state[0] == \"B\":\n",
    "            if self.state[2] == 1:\n",
    "                self.state = (\"B\", self.state[1], 0)\n",
    "                print(f\"\\nSucked dirt in Room B. New state: {self.state}\")\n",
    "\n",
    "    def move_left(self):\n",
    "        if self.state[0] == \"B\":\n",
    "            self.state = (\"A\", self.state[1], self.state[2])\n",
    "            print(f\"\\n Room B is clean. Moved left to Room A. New state: {self.state}\")\n",
    "\n",
    "    def move_right(self):\n",
    "        if self.state[0] == \"A\":\n",
    "            self.state = (\"B\", self.state[1], self.state[2])\n",
    "            print(f\"\\nRoom A is clean. Moved right to Room B. New state: {self.state}\")\n",
    "\n",
    "    def clean(self):\n",
    "        while self.state[1] == 1 or self.state[2] == 1:\n",
    "            if self.state[0] == \"A\" and self.state[1] == 1:\n",
    "                self.suck()\n",
    "            elif self.state[0] == \"B\" and self.state[2] == 1:\n",
    "                self.suck()\n",
    "            elif self.state[0] == \"A\" and self.state[2] == 1:\n",
    "                self.move_right()\n",
    "            elif self.state[0] == \"B\" and self.state[1] == 1:\n",
    "                self.move_left()\n",
    "        if self.state[1] == 0 and self.state[2] == 0:\n",
    "            print(\"\\nBOTH RO0MS ARE CLEAN.GOAL ACHIVED \\n\")\n",
    "\n",
    "agentposition=input(\"\\n enter the postion of agent (A|B) :\")\n",
    "left=int(input(\"\\n enter the 1 if room A is dirty else 0 :\"))\n",
    "right=int(input(\"\\n enter the 1 if room B is dirty else 0 :\"))\n",
    "initial_state = (agentposition.upper(),left,right)\n",
    "print(\"\\nINITIAL STATE\",initial_state)\n",
    "\n",
    "\n",
    "agent = VacuumCleanerAgent(initial_state)\n",
    "\n",
    "\n",
    "agent.clean()\n"
   ]
  },
  {
   "cell_type": "code",
   "execution_count": null,
   "id": "dcb9e5bf-d1f0-4891-81ea-507bf47d4db0",
   "metadata": {},
   "outputs": [],
   "source": []
  }
 ],
 "metadata": {
  "kernelspec": {
   "display_name": "Python 3 (ipykernel)",
   "language": "python",
   "name": "python3"
  },
  "language_info": {
   "codemirror_mode": {
    "name": "ipython",
    "version": 3
   },
   "file_extension": ".py",
   "mimetype": "text/x-python",
   "name": "python",
   "nbconvert_exporter": "python",
   "pygments_lexer": "ipython3",
   "version": "3.10.12"
  }
 },
 "nbformat": 4,
 "nbformat_minor": 5
}
